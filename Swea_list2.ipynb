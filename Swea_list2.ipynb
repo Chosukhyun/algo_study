{
  "cells": [
    {
      "cell_type": "markdown",
      "metadata": {
        "id": "lW5Ib5ZaLdSu"
      },
      "source": [
        "## 4836. 색칠하기\n",
        "- 10 x 10 격자에 빨간색과 파란색을 칠하려고 함<br>\n",
        "__Q. N개의 영역에 대해 왼쪽위와 오른쪽 아래 모서리 인덱스, 칠할 색상이 주어질 때 <u>칠이 끝난 후 색이 겹쳐 보라색이 된 칸수를 구하는 프로그램</u> 만들기__\n",
        "  - 주어진 정보에서 같은 색인 영역은 겹치지 않음!\n",
        "\n",
        "  ![image.png](data:image/png;base64,iVBORw0KGgoAAAANSUhEUgAAAXsAAADvCAYAAAATvnTqAAAAAXNSR0IArs4c6QAAAARnQU1BAACxjwv8YQUAAAAJcEhZcwAAEnQAABJ0Ad5mH3gAAA0VSURBVHhe7d2/axzregfwR/kr1iAXm7h1o0CQBLdZcHp7sUGrKhiSQsUF407yLa6kTghSqEjAuPIKbNbuY9jGoBWBqFF7brawQPtfbGZWox9nScI5MyPfWb2fz2F8dlac98yr9X7nnWeG912aZgKAB+1vin8D8IAJe4AECHuABAh7gAQIe4AECHuABAh7gAQIe4AECHuABAh7gAQIe4AECHuABAh7gAQIe4AECHuABAh7gAQIe4AECHuABAh7gAQIe4AENCjsR7G/tBRLs20/26vJ6X4s7dbV2j0c40U/utdtvurHpHi7DqPdpege19Di3WPMtlrazHraf1Vfv/O+Xh/f9bZ/WvywtLufdzf6F8XbFUyOuzfHV8/vEX6bxoT9aHc9+2Ma0+k0LvtnsV45oIsv6uFZvCjeqWpyPI5Odnz5MU6zw6t+jNlRfo84Kto8eboZ7ysHVCE7yQ1jr9ip6GIc0b+86ne2DTZaxQ/KG+0+isHzos3DdowrBunau+JzmW0nsffyY7xeLX5Y0t2/k9Mf3Ri8qXhSyk6aW1+7cTk7xsvoft2q5QQCv0VDwn4Uw/PbL2dr423snY8rjvbWYnsWJN1iv7rWRi9rtbDcruUkspa1eRudL6K9XLysJDvRZQH6+lmx2zRZ6B1kn/fR9UljeS3Waun3lcnxQcSbu7/XctpP5j7hp+1KbU6+DyKed4o2WtF7sxKD79VH97dXC/VcffAwNSPss5Hj2fwX6fM4svFkY40+bMbKs5voL+9OiWT4bBC9GkJvtDuMzqfqYXfXl96jIlBqKF/lVwrP2zGssYxzaxTvs9Fz1VF9rrUxiM634hjfZFdg76p93q32Snz5Orzp6+jbTvGqguwK7tHN1cJRxPdaios8QG7Q/m5Xtebhs2ls1xAosdyLweyLOp0FS9U6bj7KGz7bvr0CqcPq9lUpI9vqKbHlJ49s9H1YtPl8EFt11a9Ph3F2M3quJr8PkH/Os74fRmxVPSllv8e8VPfo+uReQ5ltMj6LvZurmOxqYaPWT54HpBlhv9yOlfmyzct2tIuXjTEbhW/NQqqWoJ+z9k8fI36pcj2TjWp7X2JnrRiNru1cjchru0Gdj3brKLFFvOgf3VzFzEa8lfp9LTsRZ6H8toZ7Cvnv8m5pMZY70Y1BDGu8t/D6yVmstKsd6/iXL8Ur+P81ZGSfB/vtzcm85lrX6KxOow+D6P6op9RyZRT9OyPavDQUT6qc4or7FNfbaC8L1cuYViw/TE5HN+GefzY7FWvXsdqJld77m3JQXs54UanfhYthFsd1DRJ+/Xdy1vbnlYr3VEYxummvH1u9lehUHDSsPduLncPrK47sZHesjMP/riFhn11+Hn6Ms2JEmtcgb27eNcYkxudfYvNxMWrOt8q15rXoxNZNe+txUsuTLnVrLY9jqzjGWX244sljdlLKMmm97n7P7gXUNUjI/k5+OskOtfisH+cn+qrlsey/vr4H8Hgcb6c1lNtWt2dlsKvSUHbV+YfKLfJALWUjwGnxGoAHyg1agAQIe4AECHuABAh7gAQIe4AE/NSncfJHzoDfz0NzVPXTw77O/13d7eUWoU39rk+q/SY9yjgACRD2AAkQ9gAJKBn2d5aUs2ACQOOVCvvJ8dbtknKjldisulwbAPeqRNhPYvh15XbO8NXX8TGavaoUQOpKhH0e7PNzhp9VXjAagPvjBi1AAkqEfT6qny/bVF3BB4D7VCLsW9F+uhMH18vpnb6Pzaed6ivuAHBvSpVx1t6dxEq+kHX+6GWW8ieVl6kD4D6ZG2fOIrSp3/VJtd+kxw1agAQIe4AECHuABAh7gARYqQoWgBu0VOVpnDmL0KZ+1yfVfpMeZRyABAh7gARUCvvR7lLsnxY7ADRWubA/3Z/VEQ/OXxRvANBk5cJ+dXt2w+joebEPQKOp2QMkQNgDJEDYAyRA2AMkQNgDJMB0CXMWoU39rk+q/SY9RvYACRD2AAkQ9gAJEPYACRD2AAmwUhUsAE/jUJVHL+fkbf733/9dsVePv/2vv9TaZt3t5fI27+N3uQifd4r9Jj3KOAAJEPYACSgZ9qPYzy4t88vLpaX9bA+AJisV9pPjcXSm01kdcZol/fquuAdoslJh39roxVrxOpbbYXFCgGarXLMffdiMlWc30Q9AA1UI+0n0Xy3F8Nk0tleLtwBopHJhf9GP7tJWxKGgB1gEpcJ+9GEQ3R+D6C0XbwDQaCXCfhLj8y+x+fj60ctse9XP3gWgqUqEfSt6n4rHLq+3T73sXQCaqsINWgAWhbAHSICwB0iAsAdIgLAHSICVqmAB/MSvKQ+Ularm5G3exypQ//IP/17sVfdv//nPtbaXy9vs/PE/ir16DP/1H2ttM2/vPj7vprd5H8dIepRxABIg7AESUDLsrVQFsEhKhf3dlaou+2dxcGxmHIAmKxX2v1qpKrPSNjMOQJNVLuNsxZE57QEarmTYr8V2UcY5yuJ+yYLjAI1WMuxvtTbext752Hz2AA1WIuwn0T++HclPjg9i52nbfPYADVYi7FvRaw+Lxy6X4tHXbly+u3u7FoCmKVfGWd2e1etnm1WqABqvcs0egOYT9gAJEPYACRD2AAkQ9gAJsFIVLICf+DXlgbJS1Zy8TStV1cNKVfW4j2MkPco4AAkQ9gAJqBj2+VTH3ehfFLsANFKlsB/tDiP+XOwA0Fjlw/50Pw6evI5OsQtAc5UM+1Hsf+vEYMMUaACLoETYT6L/ahgd0xoDLIzfH/an72Pz806sL13NZ7/+py+x+Xgp9k+LnwPQOL8/7O/OZZ9tJ39+ER9/TC06DtBg5W/QArAwKof92rtB9JaLHQAaycgeIAHCHiABwh4gAcIeIAHCHiABVqqCBfATv6Y8UFaqmnNfbda9YlPTV5XKWamqHvdxjKRHGQcgAcIeIAHlwv6iH93s0jK/vMy37vGk+AEATVQy7McR/ctZHTHfzGsP0GzKOAAJKB32X3qPijLOfoyK9wBopnJhf2dO+8v+WazvinuAJqtcxmltvI2983G4RQvQXKXCfnI6ugn3yfFB7Dxth1u0AM1VKuxby+PYKh67fPS1G5cWHwdotHJlnOVeDIqa/fRTz6geoOEq1+wBaD5hD5AAYQ+QAGEPkABhD5AAK1XBAviJX1MeKCtVzbmvNq1UVZ2VqqA8ZRyABAh7gASUD/vT/dnlZb7tnxbvAdBI5cI+X5ZwLeJkejVlQseM9gCNVirsRx82Y2W0HdfTn62tmggNoMlKhP0kxud72WheGQdgUZSs2e/E+rfOrIQznZ5kQ3tLEwI0Wcmw34uTmzns29F+eRbji2IXgMYpEfat6Dw/i4PjYq2qi2EMPq9Ee/lqF4DmKTWyb20cRffro6ua/eNBdH/c3qwFoHlKlnFa0ftUrFQ1HUTPqB6g0UqGPQCLRNgDJEDYAyRA2AMkQNgDJMBKVbAAfuLXlAfKSlVzFqFN/a5Pqv0mPco4AAkQ9gAJKBH2o9jPLivzS8vbzayXAE1WvWZ/uh/d8esYbLSKN/5vi1DLXIQ29bs+qfab9FQs40yifxjx9jcEPQB/PdXC/vR9DJ6/NuMlQMNVCvvRt7Po/sGoHqDpyof9RT8O4q3pjQEWQOmwn3wfRDxpF3sANFnpsB//Eko4AAvCdAlzUn0UT7/rswj9Jj3VnsYBYCEIe4AECHuABAh7gAQIe4AEWKkKFoCncajKo5dzFqFN/a5Pqv0mPco4AAkQ9gAJEPYACSgZ9neXJuxG/6J4G4BGKhX2o9317I/p7KbR9Ec3Bm/6MSl+BkDzlAr79pMXxavC03aY/xKguUqFfWtjEJ1vRRnnTcTROwsTAjRZyTLOUgyfFWWcw4itV8o4AE1WIuxHMTz/GK9Xi93lTnRjEEM3aQEaq0TYt7N/NuP9abF7MYzB55VoW4sWoLFKhH0rep9OItaKmv3jQXR/bIeqPUBzmRtnziK0qd/1SbXfpKfUDVoAFouwB0iAsAdIgLAHSICVqmABuEFLVZ7GmbMIbep3fVLtN+lRxgFIgLAHSICwB0hAybC/u1LVfrYHQJOVCvtfrVSVJf36rrgHaLISYT+K4Z/2onM9xfHq6/h4PjS6B2iwEmHfjvbLnRj+aorj4jUAjVQi7FvRO/wYZ9dTHL8Zx8rL4kcANFK5G7TLvRjk9fp8+9TJ3sgXNAGgqUqF/eR0dLPmbH6z9ux5JxvvA9BUpcK+tTyOreLRy4MnlzHYEPUATWZunDmL0KZ+1yfVfpOecjV7ABaKsAdIgLAHSICwB0iAlapgAbhBS1U/NewB+OtQxgFIgLAHSICwB0iAsAdIgLAHSECpsJ8cd2P/uB/dpaXYv17EBIDGKj2y3/kacTSdxvb18oQANFbpsN970zOHPcCCULMHSICwB0iAsAdIgLlxABJgZA+QAGEPkABhD5AAYQ+QAGEPkABhD5AAYQ+QAGEPkABhD5AAYQ/w4EX8DyMd7GT8RGYYAAAAAElFTkSuQmCC)\n"
      ]
    },
    {
      "cell_type": "code",
      "execution_count": null,
      "metadata": {
        "id": "cFLVS7qnVfoo"
      },
      "outputs": [],
      "source": [
        "# 3\n",
        "# 2\n",
        "# 2 2 4 4 1\n",
        "# 3 3 6 6 2\n",
        "# 3\n",
        "# 1 2 3 3 1\n",
        "# 3 6 6 8 1\n",
        "# 2 3 5 6 2\n",
        "# 3\n",
        "# 1 4 8 5 1\n",
        "# 1 8 3 9 1\n",
        "# 3 2 5 8 2"
      ]
    },
    {
      "cell_type": "code",
      "execution_count": 28,
      "metadata": {
        "colab": {
          "base_uri": "https://localhost:8080/"
        },
        "id": "2D5uUHjBwrG8",
        "outputId": "a810bbab-dd57-439c-dc97-d90f72d4f7f9"
      },
      "outputs": [
        {
          "name": "stdout",
          "output_type": "stream",
          "text": [
            "3\n",
            "2\n",
            "2 2 4 4 1\n",
            "3 3 6 6 2\n",
            "#1 4\n",
            "3\n",
            " 1 2 3 3 1\n",
            "3 6 6 8 1\n",
            "2 3 5 6 2\n",
            "#2 5\n",
            "3\n",
            "1 4 8 5 1\n",
            "1 8 3 9 1\n",
            "3 2 5 8 2\n",
            "#3 7\n"
          ]
        }
      ],
      "source": [
        "#문제풀이\n",
        "\n",
        "'''\n",
        "생각\n",
        "1. 10X10 이중 리스트 만들기\n",
        "2. 리스트 에서 빨강은 1, 레드는 2 더해주기\n",
        "3. 이중 for문으로 겹치는 보라색 부분인 3을 발견하면 purple에 1씩 더해주기\n",
        "'''\n",
        "\n",
        "T = int(input())\n",
        "\n",
        "for i in range(T):\n",
        "  N = int(input())\n",
        "  board = [[0 for _ in range(10)] for _ in range(10)]  # 10x10 격자 만들기\n",
        "  for _ in range(N):\n",
        "    r1, c1, r2, c2, color = map(int, input().split())\n",
        "    for l in range(r1, r2+1):\n",
        "      for m in range(c1, c2+1):\n",
        "        if color == 1:\n",
        "          board[l][m] += 1\n",
        "        else:\n",
        "          board[l][m] += 2\n",
        "\n",
        "  purple = 0   # 겹치는 부분\n",
        "  for p in range(10):\n",
        "    for u in range(10):\n",
        "      if board[p][u] == 3:\n",
        "        purple += 1\n",
        "    \n",
        "  print(f\"#{i+1} {purple}\")\n"
      ]
    },
    {
      "cell_type": "markdown",
      "metadata": {
        "id": "FxKncMZ_ZUKm"
      },
      "source": [
        "## 4837.부분집합의 합\n",
        "- 1부터 12까지의 숫자를 원소로 가진 집합 A가 있음<br>\n",
        "__Q. 집합A의 부분집합 중 N개의 원소를 갖고 있고, 원소의 합이 K인 부분집합의 개수를 출력하는 프로그램을 작성하기__\n",
        "  - 해당하는 부분집합이 없는 경우 0을 출력, 모든 부분집합을 만들어 답을 찾아도 됨\n",
        "  - 예를 들어, N = 3, K = 6 경우, 부분집합은 {1,2,3}경우 1가지가 존재함\n",
        "\n"
      ]
    },
    {
      "cell_type": "code",
      "execution_count": null,
      "metadata": {
        "id": "RzM8B4CHVZzM"
      },
      "outputs": [],
      "source": [
        "# 3\n",
        "# 3 6\n",
        "# 5 15\n",
        "# 5 10"
      ]
    },
    {
      "cell_type": "code",
      "execution_count": 2,
      "metadata": {
        "colab": {
          "base_uri": "https://localhost:8080/"
        },
        "id": "HrQkvct6ZT7v",
        "outputId": "89cb33d5-160b-4822-f0f3-614f7ed87351"
      },
      "outputs": [
        {
          "name": "stdout",
          "output_type": "stream",
          "text": [
            "3\n",
            "3 6\n",
            "#1 1\n",
            "5 15\n",
            "#2 1\n",
            "5 10\n",
            "#3 0\n"
          ]
        }
      ],
      "source": [
        "#문제풀이 1(비트연산 사용)\n",
        "\n",
        "'''\n",
        "생각\n",
        "1. 1~12인 리스트 A 만들기\n",
        "2. 비트 연산자 이용하여 부분집합 생성\n",
        "'''\n",
        "\n",
        "T = int(input())\n",
        "\n",
        "for i in range(T):\n",
        "  A = [a for a in range(1, 13)]\n",
        "  N, K = map(int, input().split())\n",
        "  \n",
        "  plus = 0\n",
        "  for j in range(1 << len(A)): #부분집합의 개수(2^12)\n",
        "    part = []\n",
        "    for k in range(len(A)):  #원소의 수만큼 비트를 비교\n",
        "      if j & (1 << k):       #j에서 K번째 비트가 1이면, part에 A[k]를 추가\n",
        "        part.append(A[k])\n",
        "    \n",
        "    if len(part) == N and sum(part) == K:\n",
        "      plus += 1\n",
        "  \n",
        "  print(f'#{i+1} {plus}')"
      ]
    },
    {
      "cell_type": "markdown",
      "metadata": {
        "id": "fz1G6g1BjBQa"
      },
      "source": [
        "## 4839.이진탐색\n",
        "- 코딩반 학생들에게 이진 탐색을 설명하던 선생님은 이진탐색을 연습할 수 있는 게임을 시켜 보기로 함\n",
        "\n",
        "- 짝을 이룬 A, B 두 사람에게 교과서에서 각자 찾을 쪽 번호를 알려주면, 이진 탐색만으로 지정된 페이지를 먼저 펼치는 사람이 이기는 게임\n",
        "\n",
        "  - 예를 들어 책이 총 400쪽이면, 검색 구간의 왼쪽 l=1, 오른쪽 r=400이 되고, 중간 페이지 c= int((l+r)/2)로 계산\n",
        "\n",
        "  - 찾는 쪽 번호가 c와 같아지면 탐색을 끝냄"
      ]
    },
    {
      "cell_type": "code",
      "execution_count": null,
      "metadata": {
        "id": "RJTW_-qqVHPU"
      },
      "outputs": [],
      "source": [
        "# 3\n",
        "# 400 300 350\n",
        "# 1000 299 578\n",
        "# 1000 222 888"
      ]
    },
    {
      "cell_type": "code",
      "execution_count": 3,
      "metadata": {
        "colab": {
          "base_uri": "https://localhost:8080/"
        },
        "id": "xKnOMuLMcNXW",
        "outputId": "b030ab30-cd4c-4b7d-e45c-d995fc260f46"
      },
      "outputs": [
        {
          "name": "stdout",
          "output_type": "stream",
          "text": [
            "3\n",
            "400 300 350\n",
            "#1 A\n",
            "1000 299 578\n",
            "#2 0\n",
            "1000 222 888\n",
            "#3 A\n"
          ]
        }
      ],
      "source": [
        "def binarySearch(low, high, target, n):\n",
        "  middle = (low+high) // 2\n",
        "\n",
        "  if middle == target:\n",
        "    return n\n",
        "  \n",
        "  elif target < middle:\n",
        "    return binarySearch(low, middle, target, n+1)\n",
        "\n",
        "  elif middle < target:\n",
        "    return binarySearch(middle, high, target, n+1)\n",
        "\n",
        "\n",
        "T = int(input())\n",
        "\n",
        "for i in range(T):\n",
        "  P, Pa, Pb = map(int, input().split())\n",
        "\n",
        "  A = binarySearch(1, P, Pa, 0)\n",
        "  B = binarySearch(1, P, Pb, 0)\n",
        "\n",
        "  if A > B:\n",
        "    print(f'#{i+1} B')\n",
        "  elif A == B:\n",
        "    print(f'#{i+1} 0')\n",
        "  else:\n",
        "    print(f'#{i+1} A')\n",
        "  \n",
        "\n"
      ]
    },
    {
      "cell_type": "markdown",
      "metadata": {
        "id": "VZH5D5GowceF"
      },
      "source": [
        "#4843. 특별한 정렬\n",
        "- 보통의 정렬은 오름차순이나 내림차순으로 이루어지지만, 이번에는 특별한 정렬을 하려고 함\n",
        "\n",
        "- N개의 정수가 주어지면 가장 큰 수, 가장 작은 수, 2번째 큰 수, 2번째 작은 수 식으로 큰 수와 작은 수를 번갈아 정렬하는 방법\n",
        "\n",
        "- 예를 들어 1부터 10까지 10개의 숫자가 주어지면 다음과 같이 정렬함<br>\n",
        " \n",
        "\n",
        "  ex) 10 1 9 2 8 3 7 4 6 5<br>\n",
        " \n",
        "\n",
        "__Q.주어진 숫자에 대해 특별한 정렬을 한 결과를 10개까지 출력하기__"
      ]
    },
    {
      "cell_type": "code",
      "execution_count": null,
      "metadata": {
        "id": "xClsuzLlU2f2"
      },
      "outputs": [],
      "source": [
        "# 3\n",
        "# 10\n",
        "# 1 2 3 4 5 6 7 8 9 10\n",
        "# 10\n",
        "# 67 39 16 49 60 28 8 85 89 11\n",
        "# 20\n",
        "# 3 69 21 46 43 60 62 97 64 30 17 88 18 98 71 75 59 36 9 26\t "
      ]
    },
    {
      "cell_type": "code",
      "execution_count": 88,
      "metadata": {
        "colab": {
          "base_uri": "https://localhost:8080/"
        },
        "id": "dWRvINFdDwIG",
        "outputId": "c0ec235d-7b94-4cdf-dde8-e89de075abe4"
      },
      "outputs": [
        {
          "name": "stdout",
          "output_type": "stream",
          "text": [
            "3\n",
            "10\n",
            "1 2 3 4 5 6 7 8 9 10\n",
            "#1 10 1 9 2 8 3 7 4 6 5 \n",
            "20\n",
            "3 69 21 46 43 60 62 97 64 30 17 88 18 98 71 75 59 36 9 26\n",
            "#2 98 3 97 9 88 17 75 18 71 21 \n",
            "10\n",
            "67 39 16 49 60 28 8 85 89 11\n",
            "#3 89 8 85 11 67 16 60 28 49 39 \n"
          ]
        }
      ],
      "source": [
        "#문제 풀이\n",
        "\n",
        "'''\n",
        "생각\n",
        "1. input되는 리스트를 sort함수로 정렬하여 큰수, 작은수 대로 정렬하는 함수 만들기\n",
        "2. 만든 함수를 적용하기\n",
        "'''\n",
        "\n",
        "#함수 정의(큰수, 작은수 순서대로 10개만 반환하도록 함수를 생성)\n",
        "def sort(a):\n",
        "  a.sort()\n",
        "  lst = []\n",
        "  for i in range(len(a)//2):\n",
        "    lst.append(a[-1-i])\n",
        "    lst.append(a[i])\n",
        "  \n",
        "  return lst[:10]\n",
        "\n",
        "\n",
        "#생성한 함수를 입력\n",
        "T = int(input())\n",
        "\n",
        "for i in range(T):\n",
        "  N = int(input())\n",
        "  ai_list = list(map(int, input().split()))\n",
        "  \n",
        "  print(f'#{i+1} ', end='')\n",
        "  for j in sort(ai_list):\n",
        "    print( j, end = ' ')\n",
        "  print()  "
      ]
    },
    {
      "cell_type": "code",
      "execution_count": null,
      "metadata": {
        "id": "S_UD9u6V7Djg"
      },
      "outputs": [],
      "source": []
    }
  ],
  "metadata": {
    "colab": {
      "collapsed_sections": [],
      "name": "Swea-list2.ipynb",
      "provenance": []
    },
    "kernelspec": {
      "display_name": "Python 3",
      "name": "python3"
    },
    "language_info": {
      "name": "python"
    }
  },
  "nbformat": 4,
  "nbformat_minor": 0
}
