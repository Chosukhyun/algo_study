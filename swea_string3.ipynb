{
<<<<<<< HEAD
  "cells": [
    {
      "cell_type": "markdown",
      "metadata": {
        "id": "dUkfTyNuSuOw"
      },
      "source": [
        "## 4834. 문자열 비교"
      ]
=======
  "nbformat": 4,
  "nbformat_minor": 0,
  "metadata": {
    "colab": {
      "name": "swea_string3.ipynb",
      "provenance": [],
      "collapsed_sections": []
    },
    "kernelspec": {
      "name": "python3",
      "display_name": "Python 3"
    },
    "language_info": {
      "name": "python"
    }
  },
  "cells": [
    {
      "cell_type": "markdown",
      "source": [
        "## 4834. 문자열 비교"
      ],
      "metadata": {
        "id": "dUkfTyNuSuOw"
      }
>>>>>>> 975c87c67fc0239a68f116603c7cc72a4249955f
    },
    {
      "cell_type": "code",
      "execution_count": null,
      "metadata": {
        "colab": {
          "base_uri": "https://localhost:8080/"
        },
        "id": "cVhJNBayeNns",
        "outputId": "8a7076f5-caf3-4086-fbbf-ffbdb315aa29"
      },
      "outputs": [
        {
<<<<<<< HEAD
          "name": "stdout",
          "output_type": "stream",
=======
          "output_type": "stream",
          "name": "stdout",
>>>>>>> 975c87c67fc0239a68f116603c7cc72a4249955f
          "text": [
            "3\n",
            "XYPV\n",
            "EOGGXYPVSY\n",
            "1 1\n",
            "STJJ\n",
            "HOFSTJPVPP\n",
            "2 0\n",
            "ZYJZXZTIBSDG\n",
            "TTXGZYJZXZTIBSDGWQLW\t\n",
            "3 1\n"
          ]
        }
      ],
      "source": [
        "'''\n",
        "생각하기\n",
        "find()함수를 사용하여 문자열을 비교했을때 같은 것이 없어 -1이 반환되면 count 0을 반환하고,\n",
        "나머지는 일치하는 것이 나오면 count에 1을 더해줌\n",
        "'''\n",
        "\n",
        "T = int(input())\n",
        "\n",
        "for i in range(T):\n",
        "  N = input()\n",
        "  M = input()\n",
        "  count = 0  \n",
        "  if M. find(N) == -1:\n",
        "    count = 0\n",
        "  else:\n",
        "    count += 1     #문자열이 일치하면 1을 추가해줌  \n",
        "\n",
        "  print(f'#{i+1} {count}')    "
      ]
    },
    {
      "cell_type": "markdown",
<<<<<<< HEAD
      "metadata": {
        "id": "LSJIwV_DWn0e"
      },
      "source": [
        "## 4861. 회문\n"
      ]
    },
    {
      "cell_type": "code",
      "execution_count": null,
      "metadata": {
        "id": "ONCJKNRgUW30"
      },
      "outputs": [],
=======
      "source": [
        "## 4861. 회문\n"
      ],
      "metadata": {
        "id": "LSJIwV_DWn0e"
      }
    },
    {
      "cell_type": "code",
>>>>>>> 975c87c67fc0239a68f116603c7cc72a4249955f
      "source": [
        "T = int(input())\n",
        "\n",
        "for i in range(T):\n",
        "  N, M = map(Int, input().split())\n",
        "  string = [input() for _ in range(N)]\n",
        "  \n",
        "  #가로\n",
        "  \n",
        "  for j in range(N):\n",
        "    for k in range(N - M + 1):\n",
        "      if string[j][k: k + M] == string[j][k : k + M][::-1]:\n",
        "        ans = string[j][k:K+M]\n",
        "\n",
        "      \n",
        "  for j in range(N - M + 1):\n",
        "    ans = []\n",
        "    for k in range(M):\n",
        "      if string[]\n",
        "\n"
<<<<<<< HEAD
      ]
    },
    {
      "cell_type": "code",
      "execution_count": null,
      "metadata": {
        "id": "Z4-DNQrw3xOg"
      },
      "outputs": [],
=======
      ],
      "metadata": {
        "id": "ONCJKNRgUW30"
      },
      "execution_count": null,
      "outputs": []
    },
    {
      "cell_type": "code",
>>>>>>> 975c87c67fc0239a68f116603c7cc72a4249955f
      "source": [
        "# 참고해서 다시 풀어보기\n",
        "\n",
        "def palindrome():\n",
        "    for i in range(n):\n",
        "        # 가로 검사\n",
        "        for j in range(n-m+1):\n",
        "            tmp = words[i][j:j+m]\n",
        "            # 회문검사\n",
        "            if tmp == reverse(tmp):\n",
        "                return tmp\n",
        "        # 세로 검사 \n",
        "        for j in range(n-m+1):\n",
        "            tmp = [] # 세로문자열을 위한 빈리스트\n",
        "            for k in range(m):\n",
        "                tmp.append(words[j+k][i]) # k값이 증가하며 세로값 추가\n",
        "            if tmp == reverse(tmp):\n",
        "                return tmp            \n",
        "    return [] # 팰린드롬이 없으면 빈리스트 반환"
<<<<<<< HEAD
      ]
    },
    {
      "cell_type": "code",
      "execution_count": null,
=======
      ],
      "metadata": {
        "id": "Z4-DNQrw3xOg"
      },
      "execution_count": null,
      "outputs": []
    },
    {
      "cell_type": "code",
      "source": [
        "a = [list(input().split()) for _ in range(10)]\n"
      ],
>>>>>>> 975c87c67fc0239a68f116603c7cc72a4249955f
      "metadata": {
        "colab": {
          "base_uri": "https://localhost:8080/"
        },
        "id": "dJUCn5vLfQtm",
        "outputId": "3323eaae-48dd-45ae-f86c-504b6bf22dd3"
      },
<<<<<<< HEAD
=======
      "execution_count": null,
>>>>>>> 975c87c67fc0239a68f116603c7cc72a4249955f
      "outputs": [
        {
          "name": "stdout",
          "output_type": "stream",
          "text": [
            "GOFFAKWFSM\n",
            "GOFFAKWFSM\n",
            "GOFFAKWFSM\n",
            "GOFFAKWFSM\n",
            "GOFFAKWFSM\n",
            "GOFFAKWFSM\n",
            "GOFFAKWFSM\n",
            "GOFFAKWFSM\n",
            "GOFFAKWFSM\n",
            "GOFFAKWFSM\n"
          ]
        }
<<<<<<< HEAD
      ],
      "source": [
        "a = [list(input().split()) for _ in range(10)]\n"
=======
>>>>>>> 975c87c67fc0239a68f116603c7cc72a4249955f
      ]
    },
    {
      "cell_type": "code",
<<<<<<< HEAD
      "execution_count": null,
=======
      "source": [
        "a"
      ],
>>>>>>> 975c87c67fc0239a68f116603c7cc72a4249955f
      "metadata": {
        "colab": {
          "base_uri": "https://localhost:8080/"
        },
        "id": "uau8oV0Ohno6",
        "outputId": "9d8a7f52-bc38-41df-8b60-0cb9598ee2a5"
      },
<<<<<<< HEAD
      "outputs": [
        {
=======
      "execution_count": null,
      "outputs": [
        {
          "output_type": "execute_result",
>>>>>>> 975c87c67fc0239a68f116603c7cc72a4249955f
          "data": {
            "text/plain": [
              "[['GOFFAKWFSM'],\n",
              " ['GOFFAKWFSM'],\n",
              " ['GOFFAKWFSM'],\n",
              " ['GOFFAKWFSM'],\n",
              " ['GOFFAKWFSM'],\n",
              " ['GOFFAKWFSM'],\n",
              " ['GOFFAKWFSM'],\n",
              " ['GOFFAKWFSM'],\n",
              " ['GOFFAKWFSM'],\n",
              " ['GOFFAKWFSM']]"
            ]
          },
<<<<<<< HEAD
          "execution_count": 2,
          "metadata": {},
          "output_type": "execute_result"
        }
      ],
      "source": [
        "a"
=======
          "metadata": {},
          "execution_count": 2
        }
>>>>>>> 975c87c67fc0239a68f116603c7cc72a4249955f
      ]
    },
    {
      "cell_type": "markdown",
<<<<<<< HEAD
      "metadata": {
        "id": "yaAuNaeYsY-Q"
      },
      "source": [
        "## 4865. 글자수"
      ]
    },
    {
      "cell_type": "code",
      "execution_count": null,
      "metadata": {
        "colab": {
          "base_uri": "https://localhost:8080/"
        },
        "id": "-GwQwTiuiLBP",
        "outputId": "7a6f4552-1dd9-49ff-8aca-d91b345a45e9"
      },
      "outputs": [
        {
          "name": "stdout",
          "output_type": "stream",
          "text": [
            "1\n",
            "XYPV\n",
            "EOGGXYPVSY\n",
            "#1 2\n"
          ]
        }
      ],
=======
      "source": [
        "## 4865. 글자수"
      ],
      "metadata": {
        "id": "yaAuNaeYsY-Q"
      }
    },
    {
      "cell_type": "code",
>>>>>>> 975c87c67fc0239a68f116603c7cc72a4249955f
      "source": [
        "'''\n",
        "생각하기\n",
        "string문자열에 count()함수를 사용하여 \n",
        "요소별로 빈리스트에 카운트하여 추가하기\n",
        "'''\n",
        "\n",
        "T = int(input())\n",
        "\n",
        "for i in range(T):\n",
        "  N = input()  # str1\n",
        "  M = input()  # str2\n",
        "\n",
        "  ans = []\n",
        "\n",
        "  for j in N:\n",
        "    ans.append(M.count(j))  # count함수로 문자열M에서 j의 개수를 세서 ans에 추가해줌\n",
        "    ans_max = max(ans)  # ans에서 가장 큰 수를 반환함\n",
        "\n",
        "  print(f'#{i+1} {ans_max}')"
<<<<<<< HEAD
      ]
    }
  ],
  "metadata": {
    "colab": {
      "collapsed_sections": [],
      "name": "swea_string3.ipynb",
      "provenance": []
    },
    "kernelspec": {
      "display_name": "Python 3",
      "name": "python3"
    },
    "language_info": {
      "name": "python"
    }
  },
  "nbformat": 4,
  "nbformat_minor": 0
}
=======
      ],
      "metadata": {
        "colab": {
          "base_uri": "https://localhost:8080/"
        },
        "id": "-GwQwTiuiLBP",
        "outputId": "7a6f4552-1dd9-49ff-8aca-d91b345a45e9"
      },
      "execution_count": null,
      "outputs": [
        {
          "output_type": "stream",
          "name": "stdout",
          "text": [
            "1\n",
            "XYPV\n",
            "EOGGXYPVSY\n",
            "#1 2\n"
          ]
        }
      ]
    }
  ]
}
>>>>>>> 975c87c67fc0239a68f116603c7cc72a4249955f
